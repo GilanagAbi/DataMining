{
  "cells": [
    {
      "cell_type": "markdown",
      "metadata": {},
      "source": [
        "Gilang Abimanyu - A11.2019.11753"
      ]
    },
    {
      "cell_type": "markdown",
      "metadata": {},
      "source": [
        "Import numpy dan matplotlib serta pandas"
      ]
    },
    {
      "cell_type": "code",
      "execution_count": 2,
      "metadata": {
        "id": "rcDyEtgtDAtq"
      },
      "outputs": [],
      "source": [
        "import numpy as np\n",
        "import matplotlib.pyplot as plt\n",
        "import pandas as pd"
      ]
    },
    {
      "cell_type": "markdown",
      "metadata": {},
      "source": [
        "Import data CSV"
      ]
    },
    {
      "cell_type": "code",
      "execution_count": 27,
      "metadata": {},
      "outputs": [],
      "source": [
        "dataset = pd.read_csv(\n",
        "        'DataSph.csv',\n",
        "        delimiter=';', \n",
        "        header='infer', \n",
        "        index_col=False\n",
        "        )"
      ]
    },
    {
      "cell_type": "markdown",
      "metadata": {},
      "source": [
        "Slicing"
      ]
    },
    {
      "cell_type": "code",
      "execution_count": 28,
      "metadata": {
        "id": "IswsWlCbESsg"
      },
      "outputs": [],
      "source": [
        "dataset = pd.read_csv('DataSph.csv')\n",
        "x = dataset.iloc[:,:-1].values\n",
        "y = dataset.iloc[:,-1].values"
      ]
    },
    {
      "cell_type": "code",
      "execution_count": 29,
      "metadata": {
        "colab": {
          "base_uri": "https://localhost:8080/"
        },
        "id": "SB4-vHFCGSKc",
        "outputId": "10fdac0a-ed68-4b38-a114-0337312d288a"
      },
      "outputs": [
        {
          "name": "stdout",
          "output_type": "stream",
          "text": [
            "[[6 'Sungai Sentiong - Ruas Dewi Sri' 'Johar Baru' 'Jakarta Pusat' 464.0\n",
            "  1]\n",
            " [6 'Sungai Sentiong - Ruas Abapon' 'Johar Baru' 'Jakarta Pusat' 464.0 1]\n",
            " [6 'Sungai Sentiong - JL Tanah Tinggi' 'Johar Baru' 'Jakarta Pusat'\n",
            "  464.0 1]\n",
            " [6 'Sungai Sentiong Jl.Galur - Pombensin' 'Johar Baru' 'Jakarta Pusat'\n",
            "  606.0 1]\n",
            " [6 'Kali / Sungai Sentiong - Jl. Timah' 'Johar Baru' 'Jakarta Pusat'\n",
            "  310.0 1]\n",
            " [6 'PHB Kawi Kawi Bawah' 'Johar Baru' 'Jakarta Pusat' 620.0 1]\n",
            " [6 'PHB Kayu Awet' 'Johar Baru' 'Jakarta Pusat' 300.0 1]\n",
            " [6 'PHB Pulo Gundul' 'Johar Baru' 'Jakarta Pusat' 500.0 1]\n",
            " [6 'PHB Tanah Tinggi XII' 'Johar Baru' 'Jakarta Pusat' 500.0 1]\n",
            " [6 'PHB Bala Dewa' 'Johar Baru' 'Jakarta Pusat' 330.0 1]\n",
            " [6 'PHB Percetakan Negara II' 'Johar Baru' 'Jakarta Pusat' 500.0 1]\n",
            " [6 'PHB Johar Baru V' 'Johar Baru' 'Jakarta Pusat' 200.0 1]\n",
            " [6 'PHB Kampung Rawa' 'Johar Baru' 'Jakarta Pusat' 700.0 1]\n",
            " [6 'Sungai Utan Kayu Jl Pengayoman' 'Cempaka Putih' 'Jakarta Pusat'\n",
            "  600.0 1]\n",
            " [6 'Sungai Utan Kayu Jembatan Serong' 'Cempaka Putih' 'Jakarta Pusat'\n",
            "  400.0 1]\n",
            " [6 'Kali / Sungai Utan Kayu Jembatan Serong - SLTP 137' 'Cempaka Putih'\n",
            "  'Jakarta Pusat' 950.0 1]\n",
            " [6 'Kali / Sungai Utan Kayu SLTP 137 - Kebun Sayur' 'Cempaka Putih'\n",
            "  'Jakarta Pusat' 1250.0 1]\n",
            " [6 'Kali / Sungai Utan Kayu Jembatan Kebun Sayur - Suprapto'\n",
            "  'Cempaka Putih' 'Jakarta Pusat' 700.0 1]\n",
            " [6 'Kali / Sungai Utan Kayu Suprapto cempaka baru' 'Cempaka Putih'\n",
            "  'Jakarta Pusat' 900.0 1]\n",
            " [6 'Kali / Sungai Utan Kayu Cempaka Baru - Kodam' 'Cempaka Putih'\n",
            "  'Jakarta Pusat' 900.0 1]\n",
            " [6 'PHB Rawa Kebo' 'Cempaka Putih' 'Jakarta Pusat' 1100.0 1]\n",
            " [6 'PHB Mardani' 'Cempaka Putih' 'Jakarta Pusat' 860.0 1]\n",
            " [6 'PHB Cempaka Raya' 'Cempaka Putih' 'Jakarta Pusat' 600.0 1]\n",
            " [6 'PHB Suprapto/Bpjs' 'Cempaka Putih' 'Jakarta Pusat' 1570.0 1]\n",
            " [6 'PHB Yatof' 'Cempaka Putih' 'Jakarta Pusat' 250.0 1]\n",
            " [6 'PHB Cempaka Putih Indah' 'Cempaka Putih' 'Jakarta Pusat' 210.0 1]\n",
            " [6 'PHB Cempaka Putih Barat 25' 'Cempaka Putih' 'Jakarta Pusat' 220.0 1]\n",
            " [6 'PHB Suprapto Bea Cukai' 'Cempaka Putih' 'Jakarta Pusat' 680.0 1]\n",
            " [6 'PHB Rawa Kerbau' 'Cempaka Putih' 'Jakarta Pusat' 550.0 1]\n",
            " [6 'PHB Ahmad Yani' 'Cempaka Putih' 'Jakarta Pusat' nan 1]\n",
            " [6 'Kali / Sungai Ciliwung Ruas Veteran' 'Gambir' 'Jakarta Pusat' 2000.0\n",
            "  1]\n",
            " [6 'Kali / Sungai Ciliwung Ruas Pejambon' 'Gambir' 'Jakarta Pusat'\n",
            "  1000.0 1]\n",
            " [6 'Kali / Sungai Ciliwung Ruas Belakang Kemenkeu' 'Gambir'\n",
            "  'Jakarta Pusat' 1000.0 1]\n",
            " [6 'Kali / Sungai Ciliwung Ruas Pintu Istiqlal' 'Gambir' 'Jakarta Pusat'\n",
            "  700.0 1]\n",
            " [6 'Sungai Ciliwung Ruas jl Perwira' 'Gambir' 'Jakarta Pusat' 800.0 1]\n",
            " [6 ' Sungai Cideng Ruas Siantar' 'Gambir' 'Jakarta Pusat' 900.0 1]\n",
            " [6 'Sungai Cideng Ruas Zainul Arifin' 'Gambir' 'Jakarta Pusat' 950.0 1]\n",
            " [6 'Sungai Cideng Ruas Holand Bakeri' 'Gambir' 'Jakarta Pusat' 950.0 1]\n",
            " [6 'Sungai Cideng Ruas Tarakan' 'Gambir' 'Jakarta Pusat' 800.0 1]]\n"
          ]
        }
      ],
      "source": [
        "print(x)"
      ]
    },
    {
      "cell_type": "code",
      "execution_count": 30,
      "metadata": {
        "colab": {
          "base_uri": "https://localhost:8080/"
        },
        "id": "kNXIDF9vG2Xr",
        "outputId": "a7fe30b5-c04c-4fdc-dc08-111e05d837e3"
      },
      "outputs": [
        {
          "name": "stdout",
          "output_type": "stream",
          "text": [
            "[ 3.   4.   4.   4.   5.   1.  12.   1.   1.   1.  12.   0.5 12.   0.\n",
            " 12.   0.   0.  12.   0.   0.   0.  12.  12.   0.   0.5  0.5  0.5  0.5\n",
            " 12.  12.   0.5 12.  12.  12.  12.  12.  12.  12.  12. ]\n"
          ]
        }
      ],
      "source": [
        "print(y)"
      ]
    },
    {
      "cell_type": "markdown",
      "metadata": {},
      "source": [
        "Menangani nilai yang kosong"
      ]
    },
    {
      "cell_type": "code",
      "execution_count": 31,
      "metadata": {
        "id": "SZa4WhR8HRYp"
      },
      "outputs": [],
      "source": [
        "from sklearn.impute import SimpleImputer\n",
        "\n",
        "# ganti NaN dengan mean kolom itu\n",
        "imputer = SimpleImputer(\n",
        "        missing_values=np.nan, \n",
        "        strategy='mean'\n",
        "        )\n",
        "imputer = imputer.fit(x[:, 4:6])\n",
        "x[:, 4:6] = imputer.transform(x[:, 4:6])"
      ]
    },
    {
      "cell_type": "code",
      "execution_count": 33,
      "metadata": {
        "colab": {
          "base_uri": "https://localhost:8080/"
        },
        "id": "cZV-IY3QHwkO",
        "outputId": "13ed2629-d457-42a4-a65f-bd2c37669cd1"
      },
      "outputs": [
        {
          "name": "stdout",
          "output_type": "stream",
          "text": [
            "[[6 'Sungai Sentiong - Ruas Dewi Sri' 'Johar Baru' 'Jakarta Pusat' 464.0\n",
            "  1.0]\n",
            " [6 'Sungai Sentiong - Ruas Abapon' 'Johar Baru' 'Jakarta Pusat' 464.0\n",
            "  1.0]\n",
            " [6 'Sungai Sentiong - JL Tanah Tinggi' 'Johar Baru' 'Jakarta Pusat'\n",
            "  464.0 1.0]\n",
            " [6 'Sungai Sentiong Jl.Galur - Pombensin' 'Johar Baru' 'Jakarta Pusat'\n",
            "  606.0 1.0]\n",
            " [6 'Kali / Sungai Sentiong - Jl. Timah' 'Johar Baru' 'Jakarta Pusat'\n",
            "  310.0 1.0]\n",
            " [6 'PHB Kawi Kawi Bawah' 'Johar Baru' 'Jakarta Pusat' 620.0 1.0]\n",
            " [6 'PHB Kayu Awet' 'Johar Baru' 'Jakarta Pusat' 300.0 1.0]\n",
            " [6 'PHB Pulo Gundul' 'Johar Baru' 'Jakarta Pusat' 500.0 1.0]\n",
            " [6 'PHB Tanah Tinggi XII' 'Johar Baru' 'Jakarta Pusat' 500.0 1.0]\n",
            " [6 'PHB Bala Dewa' 'Johar Baru' 'Jakarta Pusat' 330.0 1.0]\n",
            " [6 'PHB Percetakan Negara II' 'Johar Baru' 'Jakarta Pusat' 500.0 1.0]\n",
            " [6 'PHB Johar Baru V' 'Johar Baru' 'Jakarta Pusat' 200.0 1.0]\n",
            " [6 'PHB Kampung Rawa' 'Johar Baru' 'Jakarta Pusat' 700.0 1.0]\n",
            " [6 'Sungai Utan Kayu Jl Pengayoman' 'Cempaka Putih' 'Jakarta Pusat'\n",
            "  600.0 1.0]\n",
            " [6 'Sungai Utan Kayu Jembatan Serong' 'Cempaka Putih' 'Jakarta Pusat'\n",
            "  400.0 1.0]\n",
            " [6 'Kali / Sungai Utan Kayu Jembatan Serong - SLTP 137' 'Cempaka Putih'\n",
            "  'Jakarta Pusat' 950.0 1.0]\n",
            " [6 'Kali / Sungai Utan Kayu SLTP 137 - Kebun Sayur' 'Cempaka Putih'\n",
            "  'Jakarta Pusat' 1250.0 1.0]\n",
            " [6 'Kali / Sungai Utan Kayu Jembatan Kebun Sayur - Suprapto'\n",
            "  'Cempaka Putih' 'Jakarta Pusat' 700.0 1.0]\n",
            " [6 'Kali / Sungai Utan Kayu Suprapto cempaka baru' 'Cempaka Putih'\n",
            "  'Jakarta Pusat' 900.0 1.0]\n",
            " [6 'Kali / Sungai Utan Kayu Cempaka Baru - Kodam' 'Cempaka Putih'\n",
            "  'Jakarta Pusat' 900.0 1.0]\n",
            " [6 'PHB Rawa Kebo' 'Cempaka Putih' 'Jakarta Pusat' 1100.0 1.0]\n",
            " [6 'PHB Mardani' 'Cempaka Putih' 'Jakarta Pusat' 860.0 1.0]\n",
            " [6 'PHB Cempaka Raya' 'Cempaka Putih' 'Jakarta Pusat' 600.0 1.0]\n",
            " [6 'PHB Suprapto/Bpjs' 'Cempaka Putih' 'Jakarta Pusat' 1570.0 1.0]\n",
            " [6 'PHB Yatof' 'Cempaka Putih' 'Jakarta Pusat' 250.0 1.0]\n",
            " [6 'PHB Cempaka Putih Indah' 'Cempaka Putih' 'Jakarta Pusat' 210.0 1.0]\n",
            " [6 'PHB Cempaka Putih Barat 25' 'Cempaka Putih' 'Jakarta Pusat' 220.0\n",
            "  1.0]\n",
            " [6 'PHB Suprapto Bea Cukai' 'Cempaka Putih' 'Jakarta Pusat' 680.0 1.0]\n",
            " [6 'PHB Rawa Kerbau' 'Cempaka Putih' 'Jakarta Pusat' 550.0 1.0]\n",
            " [6 'PHB Ahmad Yani' 'Cempaka Putih' 'Jakarta Pusat' 705.2105263157895\n",
            "  1.0]\n",
            " [6 'Kali / Sungai Ciliwung Ruas Veteran' 'Gambir' 'Jakarta Pusat' 2000.0\n",
            "  1.0]\n",
            " [6 'Kali / Sungai Ciliwung Ruas Pejambon' 'Gambir' 'Jakarta Pusat'\n",
            "  1000.0 1.0]\n",
            " [6 'Kali / Sungai Ciliwung Ruas Belakang Kemenkeu' 'Gambir'\n",
            "  'Jakarta Pusat' 1000.0 1.0]\n",
            " [6 'Kali / Sungai Ciliwung Ruas Pintu Istiqlal' 'Gambir' 'Jakarta Pusat'\n",
            "  700.0 1.0]\n",
            " [6 'Sungai Ciliwung Ruas jl Perwira' 'Gambir' 'Jakarta Pusat' 800.0 1.0]\n",
            " [6 ' Sungai Cideng Ruas Siantar' 'Gambir' 'Jakarta Pusat' 900.0 1.0]\n",
            " [6 'Sungai Cideng Ruas Zainul Arifin' 'Gambir' 'Jakarta Pusat' 950.0 1.0]\n",
            " [6 'Sungai Cideng Ruas Holand Bakeri' 'Gambir' 'Jakarta Pusat' 950.0 1.0]\n",
            " [6 'Sungai Cideng Ruas Tarakan' 'Gambir' 'Jakarta Pusat' 800.0 1.0]]\n"
          ]
        }
      ],
      "source": [
        "print(x)"
      ]
    },
    {
      "cell_type": "markdown",
      "metadata": {},
      "source": [
        "Pengkodean data kategori"
      ]
    },
    {
      "cell_type": "code",
      "execution_count": 34,
      "metadata": {
        "id": "AFBEi8u_IfrM"
      },
      "outputs": [],
      "source": [
        "from sklearn.compose import ColumnTransformer\n",
        "from sklearn.preprocessing import OneHotEncoder\n",
        "ct = ColumnTransformer(transformers=[('encoder',OneHotEncoder(),[0])], remainder='passthrough')\n",
        "x = np.array(ct.fit_transform(x))"
      ]
    },
    {
      "cell_type": "code",
      "execution_count": 35,
      "metadata": {
        "colab": {
          "base_uri": "https://localhost:8080/"
        },
        "id": "CAzGCobmJK5T",
        "outputId": "b64b1009-9f83-45a4-d430-17ec2f47b932"
      },
      "outputs": [
        {
          "name": "stdout",
          "output_type": "stream",
          "text": [
            "[[1.0 'Sungai Sentiong - Ruas Dewi Sri' 'Johar Baru' 'Jakarta Pusat'\n",
            "  464.0 1.0]\n",
            " [1.0 'Sungai Sentiong - Ruas Abapon' 'Johar Baru' 'Jakarta Pusat' 464.0\n",
            "  1.0]\n",
            " [1.0 'Sungai Sentiong - JL Tanah Tinggi' 'Johar Baru' 'Jakarta Pusat'\n",
            "  464.0 1.0]\n",
            " [1.0 'Sungai Sentiong Jl.Galur - Pombensin' 'Johar Baru' 'Jakarta Pusat'\n",
            "  606.0 1.0]\n",
            " [1.0 'Kali / Sungai Sentiong - Jl. Timah' 'Johar Baru' 'Jakarta Pusat'\n",
            "  310.0 1.0]\n",
            " [1.0 'PHB Kawi Kawi Bawah' 'Johar Baru' 'Jakarta Pusat' 620.0 1.0]\n",
            " [1.0 'PHB Kayu Awet' 'Johar Baru' 'Jakarta Pusat' 300.0 1.0]\n",
            " [1.0 'PHB Pulo Gundul' 'Johar Baru' 'Jakarta Pusat' 500.0 1.0]\n",
            " [1.0 'PHB Tanah Tinggi XII' 'Johar Baru' 'Jakarta Pusat' 500.0 1.0]\n",
            " [1.0 'PHB Bala Dewa' 'Johar Baru' 'Jakarta Pusat' 330.0 1.0]\n",
            " [1.0 'PHB Percetakan Negara II' 'Johar Baru' 'Jakarta Pusat' 500.0 1.0]\n",
            " [1.0 'PHB Johar Baru V' 'Johar Baru' 'Jakarta Pusat' 200.0 1.0]\n",
            " [1.0 'PHB Kampung Rawa' 'Johar Baru' 'Jakarta Pusat' 700.0 1.0]\n",
            " [1.0 'Sungai Utan Kayu Jl Pengayoman' 'Cempaka Putih' 'Jakarta Pusat'\n",
            "  600.0 1.0]\n",
            " [1.0 'Sungai Utan Kayu Jembatan Serong' 'Cempaka Putih' 'Jakarta Pusat'\n",
            "  400.0 1.0]\n",
            " [1.0 'Kali / Sungai Utan Kayu Jembatan Serong - SLTP 137'\n",
            "  'Cempaka Putih' 'Jakarta Pusat' 950.0 1.0]\n",
            " [1.0 'Kali / Sungai Utan Kayu SLTP 137 - Kebun Sayur' 'Cempaka Putih'\n",
            "  'Jakarta Pusat' 1250.0 1.0]\n",
            " [1.0 'Kali / Sungai Utan Kayu Jembatan Kebun Sayur - Suprapto'\n",
            "  'Cempaka Putih' 'Jakarta Pusat' 700.0 1.0]\n",
            " [1.0 'Kali / Sungai Utan Kayu Suprapto cempaka baru' 'Cempaka Putih'\n",
            "  'Jakarta Pusat' 900.0 1.0]\n",
            " [1.0 'Kali / Sungai Utan Kayu Cempaka Baru - Kodam' 'Cempaka Putih'\n",
            "  'Jakarta Pusat' 900.0 1.0]\n",
            " [1.0 'PHB Rawa Kebo' 'Cempaka Putih' 'Jakarta Pusat' 1100.0 1.0]\n",
            " [1.0 'PHB Mardani' 'Cempaka Putih' 'Jakarta Pusat' 860.0 1.0]\n",
            " [1.0 'PHB Cempaka Raya' 'Cempaka Putih' 'Jakarta Pusat' 600.0 1.0]\n",
            " [1.0 'PHB Suprapto/Bpjs' 'Cempaka Putih' 'Jakarta Pusat' 1570.0 1.0]\n",
            " [1.0 'PHB Yatof' 'Cempaka Putih' 'Jakarta Pusat' 250.0 1.0]\n",
            " [1.0 'PHB Cempaka Putih Indah' 'Cempaka Putih' 'Jakarta Pusat' 210.0 1.0]\n",
            " [1.0 'PHB Cempaka Putih Barat 25' 'Cempaka Putih' 'Jakarta Pusat' 220.0\n",
            "  1.0]\n",
            " [1.0 'PHB Suprapto Bea Cukai' 'Cempaka Putih' 'Jakarta Pusat' 680.0 1.0]\n",
            " [1.0 'PHB Rawa Kerbau' 'Cempaka Putih' 'Jakarta Pusat' 550.0 1.0]\n",
            " [1.0 'PHB Ahmad Yani' 'Cempaka Putih' 'Jakarta Pusat' 705.2105263157895\n",
            "  1.0]\n",
            " [1.0 'Kali / Sungai Ciliwung Ruas Veteran' 'Gambir' 'Jakarta Pusat'\n",
            "  2000.0 1.0]\n",
            " [1.0 'Kali / Sungai Ciliwung Ruas Pejambon' 'Gambir' 'Jakarta Pusat'\n",
            "  1000.0 1.0]\n",
            " [1.0 'Kali / Sungai Ciliwung Ruas Belakang Kemenkeu' 'Gambir'\n",
            "  'Jakarta Pusat' 1000.0 1.0]\n",
            " [1.0 'Kali / Sungai Ciliwung Ruas Pintu Istiqlal' 'Gambir'\n",
            "  'Jakarta Pusat' 700.0 1.0]\n",
            " [1.0 'Sungai Ciliwung Ruas jl Perwira' 'Gambir' 'Jakarta Pusat' 800.0\n",
            "  1.0]\n",
            " [1.0 ' Sungai Cideng Ruas Siantar' 'Gambir' 'Jakarta Pusat' 900.0 1.0]\n",
            " [1.0 'Sungai Cideng Ruas Zainul Arifin' 'Gambir' 'Jakarta Pusat' 950.0\n",
            "  1.0]\n",
            " [1.0 'Sungai Cideng Ruas Holand Bakeri' 'Gambir' 'Jakarta Pusat' 950.0\n",
            "  1.0]\n",
            " [1.0 'Sungai Cideng Ruas Tarakan' 'Gambir' 'Jakarta Pusat' 800.0 1.0]]\n"
          ]
        }
      ],
      "source": [
        "print(x)"
      ]
    },
    {
      "cell_type": "code",
      "execution_count": 36,
      "metadata": {
        "id": "yTV-0QssJoCb"
      },
      "outputs": [],
      "source": [
        "from sklearn.preprocessing import LabelEncoder\n",
        "le = LabelEncoder()\n",
        "y = le.fit_transform(y)"
      ]
    },
    {
      "cell_type": "code",
      "execution_count": 37,
      "metadata": {
        "colab": {
          "base_uri": "https://localhost:8080/"
        },
        "id": "tLq9kitKJs4U",
        "outputId": "d97109ea-5289-4302-db32-0c497eb5091f"
      },
      "outputs": [
        {
          "name": "stdout",
          "output_type": "stream",
          "text": [
            "[3 4 4 4 5 2 6 2 2 2 6 1 6 0 6 0 0 6 0 0 0 6 6 0 1 1 1 1 6 6 1 6 6 6 6 6 6\n",
            " 6 6]\n"
          ]
        }
      ],
      "source": [
        "print(y)"
      ]
    },
    {
      "cell_type": "markdown",
      "metadata": {},
      "source": [
        "Membagi data ke training set"
      ]
    },
    {
      "cell_type": "code",
      "execution_count": 38,
      "metadata": {
        "id": "fNGTXkzvKA8L"
      },
      "outputs": [],
      "source": [
        "from sklearn.model_selection import train_test_split\n",
        "x_train, x_test, y_train, y_test = train_test_split(x,y,test_size=0.2, random_state=1)"
      ]
    },
    {
      "cell_type": "code",
      "execution_count": 39,
      "metadata": {
        "colab": {
          "base_uri": "https://localhost:8080/"
        },
        "id": "sYUfDifsKVZ0",
        "outputId": "6a107186-eac0-48ef-a868-7935003e0eb5"
      },
      "outputs": [
        {
          "name": "stdout",
          "output_type": "stream",
          "text": [
            "[[1.0 'Kali / Sungai Utan Kayu Cempaka Baru - Kodam' 'Cempaka Putih'\n",
            "  'Jakarta Pusat' 900.0 1.0]\n",
            " [1.0 'PHB Cempaka Putih Indah' 'Cempaka Putih' 'Jakarta Pusat' 210.0 1.0]\n",
            " [1.0 'Kali / Sungai Ciliwung Ruas Pejambon' 'Gambir' 'Jakarta Pusat'\n",
            "  1000.0 1.0]\n",
            " [1.0 'Kali / Sungai Utan Kayu Jembatan Kebun Sayur - Suprapto'\n",
            "  'Cempaka Putih' 'Jakarta Pusat' 700.0 1.0]\n",
            " [1.0 'PHB Ahmad Yani' 'Cempaka Putih' 'Jakarta Pusat' 705.2105263157895\n",
            "  1.0]\n",
            " [1.0 ' Sungai Cideng Ruas Siantar' 'Gambir' 'Jakarta Pusat' 900.0 1.0]\n",
            " [1.0 'Kali / Sungai Ciliwung Ruas Belakang Kemenkeu' 'Gambir'\n",
            "  'Jakarta Pusat' 1000.0 1.0]\n",
            " [1.0 'PHB Suprapto Bea Cukai' 'Cempaka Putih' 'Jakarta Pusat' 680.0 1.0]\n",
            " [1.0 'Kali / Sungai Sentiong - Jl. Timah' 'Johar Baru' 'Jakarta Pusat'\n",
            "  310.0 1.0]\n",
            " [1.0 'Sungai Utan Kayu Jembatan Serong' 'Cempaka Putih' 'Jakarta Pusat'\n",
            "  400.0 1.0]\n",
            " [1.0 'PHB Percetakan Negara II' 'Johar Baru' 'Jakarta Pusat' 500.0 1.0]\n",
            " [1.0 'Sungai Ciliwung Ruas jl Perwira' 'Gambir' 'Jakarta Pusat' 800.0\n",
            "  1.0]\n",
            " [1.0 'PHB Suprapto/Bpjs' 'Cempaka Putih' 'Jakarta Pusat' 1570.0 1.0]\n",
            " [1.0 'PHB Yatof' 'Cempaka Putih' 'Jakarta Pusat' 250.0 1.0]\n",
            " [1.0 'Kali / Sungai Ciliwung Ruas Pintu Istiqlal' 'Gambir'\n",
            "  'Jakarta Pusat' 700.0 1.0]\n",
            " [1.0 'PHB Rawa Kebo' 'Cempaka Putih' 'Jakarta Pusat' 1100.0 1.0]\n",
            " [1.0 'Kali / Sungai Utan Kayu Suprapto cempaka baru' 'Cempaka Putih'\n",
            "  'Jakarta Pusat' 900.0 1.0]\n",
            " [1.0 'PHB Kayu Awet' 'Johar Baru' 'Jakarta Pusat' 300.0 1.0]\n",
            " [1.0 'Sungai Utan Kayu Jl Pengayoman' 'Cempaka Putih' 'Jakarta Pusat'\n",
            "  600.0 1.0]\n",
            " [1.0 'PHB Pulo Gundul' 'Johar Baru' 'Jakarta Pusat' 500.0 1.0]\n",
            " [1.0 'Sungai Cideng Ruas Tarakan' 'Gambir' 'Jakarta Pusat' 800.0 1.0]\n",
            " [1.0 'Sungai Sentiong - Ruas Abapon' 'Johar Baru' 'Jakarta Pusat' 464.0\n",
            "  1.0]\n",
            " [1.0 'Kali / Sungai Utan Kayu SLTP 137 - Kebun Sayur' 'Cempaka Putih'\n",
            "  'Jakarta Pusat' 1250.0 1.0]\n",
            " [1.0 'Sungai Sentiong - Ruas Dewi Sri' 'Johar Baru' 'Jakarta Pusat'\n",
            "  464.0 1.0]\n",
            " [1.0 'Kali / Sungai Utan Kayu Jembatan Serong - SLTP 137'\n",
            "  'Cempaka Putih' 'Jakarta Pusat' 950.0 1.0]\n",
            " [1.0 'PHB Kawi Kawi Bawah' 'Johar Baru' 'Jakarta Pusat' 620.0 1.0]\n",
            " [1.0 'PHB Johar Baru V' 'Johar Baru' 'Jakarta Pusat' 200.0 1.0]\n",
            " [1.0 'PHB Bala Dewa' 'Johar Baru' 'Jakarta Pusat' 330.0 1.0]\n",
            " [1.0 'PHB Tanah Tinggi XII' 'Johar Baru' 'Jakarta Pusat' 500.0 1.0]\n",
            " [1.0 'PHB Kampung Rawa' 'Johar Baru' 'Jakarta Pusat' 700.0 1.0]\n",
            " [1.0 'Sungai Cideng Ruas Holand Bakeri' 'Gambir' 'Jakarta Pusat' 950.0\n",
            "  1.0]]\n"
          ]
        }
      ],
      "source": [
        "print(x_train)"
      ]
    },
    {
      "cell_type": "code",
      "execution_count": 21,
      "metadata": {
        "colab": {
          "base_uri": "https://localhost:8080/"
        },
        "id": "sYerTE7oKiuT",
        "outputId": "dc6fca78-51da-4f0d-c909-2b41fcec105a"
      },
      "outputs": [
        {
          "name": "stdout",
          "output_type": "stream",
          "text": [
            "[[1.0 'Kali / Sungai Sentiong - JL Tanah Tinggi' 'Johar Baru'\n",
            "  'Jakarta Pusat' '464' 'm' 1]\n",
            " [1.0 'Kali / Sungai Ciliwung Ruas Veteran' 'Gambir' 'Jakarta Pusat'\n",
            "  '2000' 'm' 1]\n",
            " [1.0 'Kali / Sungai Sentiong Jl.Galur - Pombensin' 'Johar Baru'\n",
            "  'Jakarta Pusat' '606' 'm' 1]\n",
            " [1.0 'PHB Mardani' 'Cempaka Putih' 'Jakarta Pusat' '860' 'm' 1]\n",
            " [1.0 'PHB Cempaka Putih Barat 25' 'Cempaka Putih' 'Jakarta Pusat' '220'\n",
            "  'm' 1]\n",
            " [1.0 'PHB Rawa Kerbau' 'Cempaka Putih' 'Jakarta Pusat' '550' 'm' 1]\n",
            " [1.0 'PHB Cempaka Raya' 'Cempaka Putih' 'Jakarta Pusat' '600' 'm' 1]\n",
            " [1.0 'Kali / Sungai Cideng Ruas Zainul Arifin' 'Gambir' 'Jakarta Pusat'\n",
            "  '950' 'm' 1]]\n"
          ]
        }
      ],
      "source": [
        "print(x_test)"
      ]
    },
    {
      "cell_type": "code",
      "execution_count": 22,
      "metadata": {
        "colab": {
          "base_uri": "https://localhost:8080/"
        },
        "id": "RZFIecOEK3_D",
        "outputId": "39517b5a-84c8-4533-f63b-3de6797ee3c9"
      },
      "outputs": [
        {
          "name": "stdout",
          "output_type": "stream",
          "text": [
            "[0 1 6 6 6 6 6 1 5 6 6 6 0 1 6 0 0 6 0 2 6 4 0 3 0 2 1 2 2 6 6]\n"
          ]
        }
      ],
      "source": [
        "print(y_train)"
      ]
    },
    {
      "cell_type": "code",
      "execution_count": 23,
      "metadata": {
        "colab": {
          "base_uri": "https://localhost:8080/"
        },
        "id": "SkEY1At2K-sz",
        "outputId": "1c8898fe-c36f-46c7-d36c-8980399bd838"
      },
      "outputs": [
        {
          "name": "stdout",
          "output_type": "stream",
          "text": [
            "[4 1 4 6 1 6 6 6]\n"
          ]
        }
      ],
      "source": [
        "print(y_test)"
      ]
    },
    {
      "cell_type": "markdown",
      "metadata": {},
      "source": [
        "Deatur Scalling"
      ]
    },
    {
      "cell_type": "code",
      "execution_count": 43,
      "metadata": {
        "id": "ucC0cZcyLYir"
      },
      "outputs": [],
      "source": [
        "from sklearn.preprocessing import StandardScaler\n",
        "sc = StandardScaler()\n",
        "x_train[:,4:] = sc.fit_transform(x_train[:,4:])\n",
        "x_test[:,4:] = sc.transform(x_test[:,4:])"
      ]
    },
    {
      "cell_type": "code",
      "execution_count": 44,
      "metadata": {
        "colab": {
          "base_uri": "https://localhost:8080/"
        },
        "id": "EEdeDCEJL46r",
        "outputId": "2707b1b1-4175-40e3-a126-7d875296e7a7"
      },
      "outputs": [
        {
          "name": "stdout",
          "output_type": "stream",
          "text": [
            "[[1.0 'Kali / Sungai Utan Kayu Cempaka Baru - Kodam' 'Cempaka Putih'\n",
            "  'Jakarta Pusat' 0.6739378487729633 0.0]\n",
            " [1.0 'PHB Cempaka Putih Indah' 'Cempaka Putih' 'Jakarta Pusat'\n",
            "  -1.494858175582444 0.0]\n",
            " [1.0 'Kali / Sungai Ciliwung Ruas Pejambon' 'Gambir' 'Jakarta Pusat'\n",
            "  0.9882561131722977 0.0]\n",
            " [1.0 'Kali / Sungai Utan Kayu Jembatan Kebun Sayur - Suprapto'\n",
            "  'Cempaka Putih' 'Jakarta Pusat' 0.04530131997429449 0.0]\n",
            " [1.0 'PHB Ahmad Yani' 'Cempaka Putih' 'Jakarta Pusat'\n",
            "  0.061678955856154564 0.0]\n",
            " [1.0 ' Sungai Cideng Ruas Siantar' 'Gambir' 'Jakarta Pusat'\n",
            "  0.6739378487729633 0.0]\n",
            " [1.0 'Kali / Sungai Ciliwung Ruas Belakang Kemenkeu' 'Gambir'\n",
            "  'Jakarta Pusat' 0.9882561131722977 0.0]\n",
            " [1.0 'PHB Suprapto Bea Cukai' 'Cempaka Putih' 'Jakarta Pusat'\n",
            "  -0.017562332905572384 0.0]\n",
            " [1.0 'Kali / Sungai Sentiong - Jl. Timah' 'Johar Baru' 'Jakarta Pusat'\n",
            "  -1.1805399111831096 0.0]\n",
            " [1.0 'Sungai Utan Kayu Jembatan Serong' 'Cempaka Putih' 'Jakarta Pusat'\n",
            "  -0.8976534732237086 0.0]\n",
            " [1.0 'PHB Percetakan Negara II' 'Johar Baru' 'Jakarta Pusat'\n",
            "  -0.5833352088243743 0.0]\n",
            " [1.0 'Sungai Ciliwung Ruas jl Perwira' 'Gambir' 'Jakarta Pusat'\n",
            "  0.35961958437362884 0.0]\n",
            " [1.0 'PHB Suprapto/Bpjs' 'Cempaka Putih' 'Jakarta Pusat'\n",
            "  2.7798702202485037 0.0]\n",
            " [1.0 'PHB Yatof' 'Cempaka Putih' 'Jakarta Pusat' -1.3691308698227103 0.0]\n",
            " [1.0 'Kali / Sungai Ciliwung Ruas Pintu Istiqlal' 'Gambir'\n",
            "  'Jakarta Pusat' 0.04530131997429449 0.0]\n",
            " [1.0 'PHB Rawa Kebo' 'Cempaka Putih' 'Jakarta Pusat' 1.302574377571632\n",
            "  0.0]\n",
            " [1.0 'Kali / Sungai Utan Kayu Suprapto cempaka baru' 'Cempaka Putih'\n",
            "  'Jakarta Pusat' 0.6739378487729633 0.0]\n",
            " [1.0 'PHB Kayu Awet' 'Johar Baru' 'Jakarta Pusat' -1.211971737623043 0.0]\n",
            " [1.0 'Sungai Utan Kayu Jl Pengayoman' 'Cempaka Putih' 'Jakarta Pusat'\n",
            "  -0.2690169444250399 0.0]\n",
            " [1.0 'PHB Pulo Gundul' 'Johar Baru' 'Jakarta Pusat' -0.5833352088243743\n",
            "  0.0]\n",
            " [1.0 'Sungai Cideng Ruas Tarakan' 'Gambir' 'Jakarta Pusat'\n",
            "  0.35961958437362884 0.0]\n",
            " [1.0 'Sungai Sentiong - Ruas Abapon' 'Johar Baru' 'Jakarta Pusat'\n",
            "  -0.6964897840081347 0.0]\n",
            " [1.0 'Kali / Sungai Utan Kayu SLTP 137 - Kebun Sayur' 'Cempaka Putih'\n",
            "  'Jakarta Pusat' 1.7740517741706336 0.0]\n",
            " [1.0 'Sungai Sentiong - Ruas Dewi Sri' 'Johar Baru' 'Jakarta Pusat'\n",
            "  -0.6964897840081347 0.0]\n",
            " [1.0 'Kali / Sungai Utan Kayu Jembatan Serong - SLTP 137'\n",
            "  'Cempaka Putih' 'Jakarta Pusat' 0.8310969809726304 0.0]\n",
            " [1.0 'PHB Kawi Kawi Bawah' 'Johar Baru' 'Jakarta Pusat'\n",
            "  -0.206153291545173 0.0]\n",
            " [1.0 'PHB Johar Baru V' 'Johar Baru' 'Jakarta Pusat' -1.5262900020223773\n",
            "  0.0]\n",
            " [1.0 'PHB Bala Dewa' 'Johar Baru' 'Jakarta Pusat' -1.1176762583032427\n",
            "  0.0]\n",
            " [1.0 'PHB Tanah Tinggi XII' 'Johar Baru' 'Jakarta Pusat'\n",
            "  -0.5833352088243743 0.0]\n",
            " [1.0 'PHB Kampung Rawa' 'Johar Baru' 'Jakarta Pusat' 0.04530131997429449\n",
            "  0.0]\n",
            " [1.0 'Sungai Cideng Ruas Holand Bakeri' 'Gambir' 'Jakarta Pusat'\n",
            "  0.8310969809726304 0.0]]\n"
          ]
        }
      ],
      "source": [
        "print(x_train)"
      ]
    },
    {
      "cell_type": "code",
      "execution_count": 45,
      "metadata": {
        "colab": {
          "base_uri": "https://localhost:8080/"
        },
        "id": "zSGzs07wL6qq",
        "outputId": "d52a8154-9c03-44e5-b659-47b55ab81289"
      },
      "outputs": [
        {
          "name": "stdout",
          "output_type": "stream",
          "text": [
            "[[1.0 'Sungai Sentiong - JL Tanah Tinggi' 'Johar Baru' 'Jakarta Pusat'\n",
            "  -0.6964897840081347 0.0]\n",
            " [1.0 'Kali / Sungai Ciliwung Ruas Veteran' 'Gambir' 'Jakarta Pusat'\n",
            "  4.131438757165641 0.0]\n",
            " [1.0 'Sungai Sentiong Jl.Galur - Pombensin' 'Johar Baru' 'Jakarta Pusat'\n",
            "  -0.2501578485610798 0.0]\n",
            " [1.0 'PHB Mardani' 'Cempaka Putih' 'Jakarta Pusat' 0.5482105430132295\n",
            "  0.0]\n",
            " [1.0 'PHB Cempaka Putih Barat 25' 'Cempaka Putih' 'Jakarta Pusat'\n",
            "  -1.4634263491425106 0.0]\n",
            " [1.0 'PHB Rawa Kerbau' 'Cempaka Putih' 'Jakarta Pusat'\n",
            "  -0.4261760766247071 0.0]\n",
            " [1.0 'PHB Cempaka Raya' 'Cempaka Putih' 'Jakarta Pusat'\n",
            "  -0.2690169444250399 0.0]\n",
            " [1.0 'Sungai Cideng Ruas Zainul Arifin' 'Gambir' 'Jakarta Pusat'\n",
            "  0.8310969809726304 0.0]]\n"
          ]
        }
      ],
      "source": [
        "print(x_test)"
      ]
    },
    {
      "cell_type": "markdown",
      "metadata": {},
      "source": [
        "MinMax Scaller"
      ]
    },
    {
      "cell_type": "code",
      "execution_count": 46,
      "metadata": {},
      "outputs": [],
      "source": [
        "from sklearn.preprocessing import MinMaxScaler\n",
        "\n",
        "sc = MinMaxScaler(feature_range=(-1, 1))\n",
        "x_train[:,4:] = sc.fit_transform(x_train[:,4:])\n",
        "x_test[:,4:] = sc.transform(x_test[:,4:])"
      ]
    },
    {
      "cell_type": "code",
      "execution_count": 47,
      "metadata": {},
      "outputs": [
        {
          "name": "stdout",
          "output_type": "stream",
          "text": [
            "[[1.0 'Kali / Sungai Utan Kayu Cempaka Baru - Kodam' 'Cempaka Putih'\n",
            "  'Jakarta Pusat' 0.02189781021897802 -1.0]\n",
            " [1.0 'PHB Cempaka Putih Indah' 'Cempaka Putih' 'Jakarta Pusat'\n",
            "  -0.9854014598540147 -1.0]\n",
            " [1.0 'Kali / Sungai Ciliwung Ruas Pejambon' 'Gambir' 'Jakarta Pusat'\n",
            "  0.16788321167883202 -1.0]\n",
            " [1.0 'Kali / Sungai Utan Kayu Jembatan Kebun Sayur - Suprapto'\n",
            "  'Cempaka Putih' 'Jakarta Pusat' -0.27007299270073004 -1.0]\n",
            " [1.0 'PHB Ahmad Yani' 'Cempaka Putih' 'Jakarta Pusat'\n",
            "  -0.26246638494045343 -1.0]\n",
            " [1.0 ' Sungai Cideng Ruas Siantar' 'Gambir' 'Jakarta Pusat'\n",
            "  0.02189781021897802 -1.0]\n",
            " [1.0 'Kali / Sungai Ciliwung Ruas Belakang Kemenkeu' 'Gambir'\n",
            "  'Jakarta Pusat' 0.16788321167883202 -1.0]\n",
            " [1.0 'PHB Suprapto Bea Cukai' 'Cempaka Putih' 'Jakarta Pusat'\n",
            "  -0.2992700729927008 -1.0]\n",
            " [1.0 'Kali / Sungai Sentiong - Jl. Timah' 'Johar Baru' 'Jakarta Pusat'\n",
            "  -0.8394160583941607 -1.0]\n",
            " [1.0 'Sungai Utan Kayu Jembatan Serong' 'Cempaka Putih' 'Jakarta Pusat'\n",
            "  -0.7080291970802921 -1.0]\n",
            " [1.0 'PHB Percetakan Negara II' 'Johar Baru' 'Jakarta Pusat'\n",
            "  -0.562043795620438 -1.0]\n",
            " [1.0 'Sungai Ciliwung Ruas jl Perwira' 'Gambir' 'Jakarta Pusat'\n",
            "  -0.12408759124087604 -1.0]\n",
            " [1.0 'PHB Suprapto/Bpjs' 'Cempaka Putih' 'Jakarta Pusat' 1.0 -1.0]\n",
            " [1.0 'PHB Yatof' 'Cempaka Putih' 'Jakarta Pusat' -0.9270072992700731\n",
            "  -1.0]\n",
            " [1.0 'Kali / Sungai Ciliwung Ruas Pintu Istiqlal' 'Gambir'\n",
            "  'Jakarta Pusat' -0.27007299270073004 -1.0]\n",
            " [1.0 'PHB Rawa Kebo' 'Cempaka Putih' 'Jakarta Pusat' 0.3138686131386861\n",
            "  -1.0]\n",
            " [1.0 'Kali / Sungai Utan Kayu Suprapto cempaka baru' 'Cempaka Putih'\n",
            "  'Jakarta Pusat' 0.02189781021897802 -1.0]\n",
            " [1.0 'PHB Kayu Awet' 'Johar Baru' 'Jakarta Pusat' -0.854014598540146\n",
            "  -1.0]\n",
            " [1.0 'Sungai Utan Kayu Jl Pengayoman' 'Cempaka Putih' 'Jakarta Pusat'\n",
            "  -0.41605839416058404 -1.0]\n",
            " [1.0 'PHB Pulo Gundul' 'Johar Baru' 'Jakarta Pusat' -0.562043795620438\n",
            "  -1.0]\n",
            " [1.0 'Sungai Cideng Ruas Tarakan' 'Gambir' 'Jakarta Pusat'\n",
            "  -0.12408759124087604 -1.0]\n",
            " [1.0 'Sungai Sentiong - Ruas Abapon' 'Johar Baru' 'Jakarta Pusat'\n",
            "  -0.6145985401459855 -1.0]\n",
            " [1.0 'Kali / Sungai Utan Kayu SLTP 137 - Kebun Sayur' 'Cempaka Putih'\n",
            "  'Jakarta Pusat' 0.5328467153284671 -1.0]\n",
            " [1.0 'Sungai Sentiong - Ruas Dewi Sri' 'Johar Baru' 'Jakarta Pusat'\n",
            "  -0.6145985401459855 -1.0]\n",
            " [1.0 'Kali / Sungai Utan Kayu Jembatan Serong - SLTP 137'\n",
            "  'Cempaka Putih' 'Jakarta Pusat' 0.094890510948905 -1.0]\n",
            " [1.0 'PHB Kawi Kawi Bawah' 'Johar Baru' 'Jakarta Pusat'\n",
            "  -0.3868613138686132 -1.0]\n",
            " [1.0 'PHB Johar Baru V' 'Johar Baru' 'Jakarta Pusat' -1.0 -1.0]\n",
            " [1.0 'PHB Bala Dewa' 'Johar Baru' 'Jakarta Pusat' -0.8102189781021899\n",
            "  -1.0]\n",
            " [1.0 'PHB Tanah Tinggi XII' 'Johar Baru' 'Jakarta Pusat'\n",
            "  -0.562043795620438 -1.0]\n",
            " [1.0 'PHB Kampung Rawa' 'Johar Baru' 'Jakarta Pusat'\n",
            "  -0.27007299270073004 -1.0]\n",
            " [1.0 'Sungai Cideng Ruas Holand Bakeri' 'Gambir' 'Jakarta Pusat'\n",
            "  0.094890510948905 -1.0]]\n"
          ]
        }
      ],
      "source": [
        "print(x_train)"
      ]
    },
    {
      "cell_type": "code",
      "execution_count": null,
      "metadata": {},
      "outputs": [],
      "source": [
        "print(x_test)"
      ]
    }
  ],
  "metadata": {
    "colab": {
      "collapsed_sections": [],
      "name": "Preprocessing Data.ipynb",
      "provenance": []
    },
    "kernelspec": {
      "display_name": "Python 3",
      "name": "python3"
    },
    "language_info": {
      "codemirror_mode": {
        "name": "ipython",
        "version": 3
      },
      "file_extension": ".py",
      "mimetype": "text/x-python",
      "name": "python",
      "nbconvert_exporter": "python",
      "pygments_lexer": "ipython3",
      "version": "3.9.7"
    }
  },
  "nbformat": 4,
  "nbformat_minor": 0
}
