{
  "cells": [
    {
      "cell_type": "markdown",
      "metadata": {},
      "source": [
        "Gilang Abimanyu - A11.2019.11753"
      ]
    },
    {
      "cell_type": "code",
      "execution_count": 134,
      "metadata": {
        "id": "i7hlzeHEFKnl"
      },
      "outputs": [],
      "source": [
        "import numpy as np\n",
        "import matplotlib.pyplot as plt\n",
        "import pandas as pd"
      ]
    },
    {
      "cell_type": "code",
      "execution_count": 135,
      "metadata": {
        "id": "gcb80ErfFYGP"
      },
      "outputs": [],
      "source": [
        "dataset = pd.read_csv(\"DataSph.csv\")\n",
        "x = dataset.iloc[:, [2,2]].values\n",
        "y = dataset.iloc[:, -1].values"
      ]
    },
    {
      "cell_type": "code",
      "execution_count": 136,
      "metadata": {
        "colab": {
          "base_uri": "https://localhost:8080/"
        },
        "id": "nRYsvcUwFkin",
        "outputId": "dae2125e-2196-4317-b2ae-9130fe3e5c07"
      },
      "outputs": [
        {
          "name": "stdout",
          "output_type": "stream",
          "text": [
            "[[ 464  464]\n",
            " [ 464  464]\n",
            " [ 464  464]\n",
            " [ 606  606]\n",
            " [ 310  310]\n",
            " [ 620  620]\n",
            " [ 300  300]\n",
            " [ 500  500]\n",
            " [ 500  500]\n",
            " [ 330  330]\n",
            " [ 500  500]\n",
            " [ 200  200]\n",
            " [ 700  700]\n",
            " [ 600  600]\n",
            " [ 400  400]\n",
            " [ 950  950]\n",
            " [1250 1250]\n",
            " [ 700  700]\n",
            " [ 900  900]\n",
            " [ 900  900]\n",
            " [1100 1100]\n",
            " [ 860  860]\n",
            " [ 600  600]\n",
            " [1570 1570]\n",
            " [ 250  250]\n",
            " [ 210  210]\n",
            " [ 220  220]\n",
            " [ 680  680]\n",
            " [ 550  550]\n",
            " [2000 2000]\n",
            " [1000 1000]\n",
            " [1000 1000]\n",
            " [ 700  700]\n",
            " [ 800  800]\n",
            " [ 900  900]\n",
            " [ 950  950]\n",
            " [ 950  950]\n",
            " [ 800  800]]\n"
          ]
        }
      ],
      "source": [
        "print(x)"
      ]
    },
    {
      "cell_type": "code",
      "execution_count": 137,
      "metadata": {
        "colab": {
          "base_uri": "https://localhost:8080/"
        },
        "id": "ZWS6Db-DFosv",
        "outputId": "c16f2a8c-ee07-44d6-85db-9165dbaec81a"
      },
      "outputs": [
        {
          "name": "stdout",
          "output_type": "stream",
          "text": [
            "[ 3  4  4  4  5  1 12  1  1  1 12  1 12  0 12  0  0 12  0  0  0 12 12  0\n",
            "  1  1  1  1 12  1 12 12 12 12 12 12 12 12]\n"
          ]
        }
      ],
      "source": [
        "print(y)"
      ]
    },
    {
      "cell_type": "code",
      "execution_count": 138,
      "metadata": {
        "id": "guswPl7aFp5n"
      },
      "outputs": [],
      "source": [
        "from sklearn.model_selection import train_test_split\n",
        "x_train, x_test, y_train, y_test = train_test_split(x, y, test_size=0.25, random_state=0)"
      ]
    },
    {
      "cell_type": "code",
      "execution_count": 139,
      "metadata": {
        "colab": {
          "base_uri": "https://localhost:8080/"
        },
        "id": "TWmLPVTjFs_f",
        "outputId": "98e94cdc-6402-40d5-a6d0-f3b94811ca05"
      },
      "outputs": [
        {
          "name": "stdout",
          "output_type": "stream",
          "text": [
            "[[1000 1000]\n",
            " [ 800  800]\n",
            " [ 700  700]\n",
            " [ 800  800]\n",
            " [ 950  950]\n",
            " [1000 1000]\n",
            " [ 900  900]\n",
            " [ 500  500]\n",
            " [ 600  600]\n",
            " [ 620  620]\n",
            " [ 700  700]\n",
            " [ 400  400]\n",
            " [ 500  500]\n",
            " [ 550  550]\n",
            " [ 464  464]\n",
            " [ 700  700]\n",
            " [ 680  680]\n",
            " [ 250  250]\n",
            " [ 300  300]\n",
            " [1570 1570]\n",
            " [ 310  310]\n",
            " [ 900  900]\n",
            " [ 860  860]\n",
            " [ 900  900]\n",
            " [ 330  330]\n",
            " [ 950  950]\n",
            " [ 606  606]\n",
            " [ 464  464]]\n"
          ]
        }
      ],
      "source": [
        "print(x_train)"
      ]
    },
    {
      "cell_type": "code",
      "execution_count": 140,
      "metadata": {
        "colab": {
          "base_uri": "https://localhost:8080/"
        },
        "id": "ftzbKhftFw3X",
        "outputId": "4a7ffc81-9741-4a7a-ee1b-6ad321033e63"
      },
      "outputs": [
        {
          "name": "stdout",
          "output_type": "stream",
          "text": [
            "[[ 600  600]\n",
            " [2000 2000]\n",
            " [1250 1250]\n",
            " [ 950  950]\n",
            " [ 200  200]\n",
            " [1100 1100]\n",
            " [ 220  220]\n",
            " [ 500  500]\n",
            " [ 210  210]\n",
            " [ 464  464]]\n"
          ]
        }
      ],
      "source": [
        "print(x_test)"
      ]
    },
    {
      "cell_type": "code",
      "execution_count": 141,
      "metadata": {
        "colab": {
          "base_uri": "https://localhost:8080/"
        },
        "id": "Y1CNgK1PF0LO",
        "outputId": "1aed46c3-02be-4504-c2a1-0fb1bcc9d4a4"
      },
      "outputs": [
        {
          "name": "stdout",
          "output_type": "stream",
          "text": [
            "[12 12 12 12 12 12 12  1  0  1 12 12  1 12  4 12  1  1 12  0  5  0 12  0\n",
            "  1 12  4  3]\n"
          ]
        }
      ],
      "source": [
        "print(y_train)"
      ]
    },
    {
      "cell_type": "code",
      "execution_count": 142,
      "metadata": {
        "colab": {
          "base_uri": "https://localhost:8080/"
        },
        "id": "dMLhny4QF2eu",
        "outputId": "d1755f37-69e3-4dfe-be91-1d252b440a22"
      },
      "outputs": [
        {
          "name": "stdout",
          "output_type": "stream",
          "text": [
            "[12  1  0  0  1  0  1 12  1  4]\n"
          ]
        }
      ],
      "source": [
        "print(y_test)"
      ]
    },
    {
      "cell_type": "code",
      "execution_count": 143,
      "metadata": {
        "id": "CvlkpNU9F8mm"
      },
      "outputs": [],
      "source": [
        "from sklearn.preprocessing import StandardScaler\n",
        "sc = StandardScaler()\n",
        "x_train = sc.fit_transform(x_train)\n",
        "x_test = sc.transform(x_test)"
      ]
    },
    {
      "cell_type": "code",
      "execution_count": 144,
      "metadata": {
        "colab": {
          "base_uri": "https://localhost:8080/"
        },
        "id": "foVXrDOhF9-H",
        "outputId": "3dad56ed-8585-489c-d072-ae97dfce2b10"
      },
      "outputs": [
        {
          "name": "stdout",
          "output_type": "stream",
          "text": [
            "[[ 1.10661599  1.10661599]\n",
            " [ 0.3939838   0.3939838 ]\n",
            " [ 0.0376677   0.0376677 ]\n",
            " [ 0.3939838   0.3939838 ]\n",
            " [ 0.92845795  0.92845795]\n",
            " [ 1.10661599  1.10661599]\n",
            " [ 0.7502999   0.7502999 ]\n",
            " [-0.67496449 -0.67496449]\n",
            " [-0.3186484  -0.3186484 ]\n",
            " [-0.24738518 -0.24738518]\n",
            " [ 0.0376677   0.0376677 ]\n",
            " [-1.03128059 -1.03128059]\n",
            " [-0.67496449 -0.67496449]\n",
            " [-0.49680644 -0.49680644]\n",
            " [-0.80323829 -0.80323829]\n",
            " [ 0.0376677   0.0376677 ]\n",
            " [-0.03359552 -0.03359552]\n",
            " [-1.56575474 -1.56575474]\n",
            " [-1.38759669 -1.38759669]\n",
            " [ 3.13761775  3.13761775]\n",
            " [-1.35196508 -1.35196508]\n",
            " [ 0.7502999   0.7502999 ]\n",
            " [ 0.60777346  0.60777346]\n",
            " [ 0.7502999   0.7502999 ]\n",
            " [-1.28070186 -1.28070186]\n",
            " [ 0.92845795  0.92845795]\n",
            " [-0.29726943 -0.29726943]\n",
            " [-0.80323829 -0.80323829]]\n"
          ]
        }
      ],
      "source": [
        "print(x_train)"
      ]
    },
    {
      "cell_type": "code",
      "execution_count": 145,
      "metadata": {
        "colab": {
          "base_uri": "https://localhost:8080/"
        },
        "id": "spb3f78lGAyH",
        "outputId": "fe036cd6-22b5-40d3-9df3-2bc8c8f3dcb4"
      },
      "outputs": [
        {
          "name": "stdout",
          "output_type": "stream",
          "text": [
            "[[-0.3186484  -0.3186484 ]\n",
            " [ 4.66977697  4.66977697]\n",
            " [ 1.99740624  1.99740624]\n",
            " [ 0.92845795  0.92845795]\n",
            " [-1.74391279 -1.74391279]\n",
            " [ 1.46293209  1.46293209]\n",
            " [-1.67264957 -1.67264957]\n",
            " [-0.67496449 -0.67496449]\n",
            " [-1.70828118 -1.70828118]\n",
            " [-0.80323829 -0.80323829]]\n"
          ]
        }
      ],
      "source": [
        "print(x_test)"
      ]
    },
    {
      "cell_type": "code",
      "execution_count": 146,
      "metadata": {
        "colab": {
          "base_uri": "https://localhost:8080/"
        },
        "id": "-n-i8v_NT7Kg",
        "outputId": "dedd22a8-8f53-44d6-f818-88cf1454bf20"
      },
      "outputs": [
        {
          "data": {
            "text/plain": [
              "GaussianNB()"
            ]
          },
          "execution_count": 146,
          "metadata": {},
          "output_type": "execute_result"
        }
      ],
      "source": [
        "from sklearn.naive_bayes import GaussianNB\n",
        "classifier = GaussianNB()\n",
        "classifier.fit(x_train, y_train)"
      ]
    },
    {
      "cell_type": "code",
      "execution_count": 147,
      "metadata": {
        "id": "PxOXFzDaURbI"
      },
      "outputs": [],
      "source": [
        "y_pred = classifier.predict(x_test)"
      ]
    },
    {
      "cell_type": "code",
      "execution_count": 148,
      "metadata": {
        "colab": {
          "base_uri": "https://localhost:8080/"
        },
        "id": "_Qf2XLKFVPnh",
        "outputId": "2761e9a3-f024-4fc9-b92e-cee90e8d8f7a"
      },
      "outputs": [
        {
          "name": "stdout",
          "output_type": "stream",
          "text": [
            "[[2 0 0 0 1]\n",
            " [1 3 0 0 0]\n",
            " [0 0 0 0 0]\n",
            " [0 0 1 0 0]\n",
            " [0 0 0 1 1]]\n"
          ]
        }
      ],
      "source": [
        "from sklearn.metrics import confusion_matrix\n",
        "cm = confusion_matrix(y_test, y_pred)\n",
        "print(cm)"
      ]
    },
    {
      "cell_type": "code",
      "execution_count": 149,
      "metadata": {
        "colab": {
          "base_uri": "https://localhost:8080/",
          "height": 351
        },
        "id": "Y11yjCt3WNyp",
        "outputId": "799ad974-1637-4c36-94f9-a90012c24b0f"
      },
      "outputs": [
        {
          "name": "stderr",
          "output_type": "stream",
          "text": [
            "*c* argument looks like a single numeric RGB or RGBA sequence, which should be avoided as value-mapping will have precedence in case its length matches with *x* & *y*.  Please use the *color* keyword-argument or provide a 2D array with a single row if you intend to specify the same RGB or RGBA value for all points.\n",
            "*c* argument looks like a single numeric RGB or RGBA sequence, which should be avoided as value-mapping will have precedence in case its length matches with *x* & *y*.  Please use the *color* keyword-argument or provide a 2D array with a single row if you intend to specify the same RGB or RGBA value for all points.\n",
            "*c* argument looks like a single numeric RGB or RGBA sequence, which should be avoided as value-mapping will have precedence in case its length matches with *x* & *y*.  Please use the *color* keyword-argument or provide a 2D array with a single row if you intend to specify the same RGB or RGBA value for all points.\n",
            "*c* argument looks like a single numeric RGB or RGBA sequence, which should be avoided as value-mapping will have precedence in case its length matches with *x* & *y*.  Please use the *color* keyword-argument or provide a 2D array with a single row if you intend to specify the same RGB or RGBA value for all points.\n",
            "*c* argument looks like a single numeric RGB or RGBA sequence, which should be avoided as value-mapping will have precedence in case its length matches with *x* & *y*.  Please use the *color* keyword-argument or provide a 2D array with a single row if you intend to specify the same RGB or RGBA value for all points.\n"
          ]
        },
        {
          "data": {
            "image/png": "[encoded data removed]",
            "text/plain": [
              "<Figure size 432x288 with 1 Axes>"
            ]
          },
          "metadata": {
            "needs_background": "light"
          },
          "output_type": "display_data"
        }
      ],
      "source": [
        "from matplotlib.colors import ListedColormap\n",
        "x_set, y_set = x_train, y_train\n",
        "x1, x2 = np.meshgrid(np.arange(start = x_set[:, 0].min() - 1, stop = x_set[:, 0].max() +  1, step = 0.01),\n",
        "                     np.arange(start = x_set[:, 1].min() - 1, stop = x_set[:, 1].max() +  1, step = 0.01))\n",
        "plt.contourf(x1, x2, classifier.predict(np.array([x1.ravel(), x2.ravel()]).T).reshape(x1.shape),\n",
        "    alpha = 0.75, cmap = ListedColormap(('red', 'green')))\n",
        "plt.xlim(x1.min(), x1.max())\n",
        "plt.ylim(x2.min(), x2.max())\n",
        "for i,  j in enumerate(np.unique(y_set)):\n",
        "    plt.scatter(x_set[y_set == j, 0], x_set[y_set == j, 1],\n",
        "                c = ListedColormap(('red', 'green'))(i), label= j)\n",
        "plt.title('Naive Bayes (Training set)')\n",
        "plt.xlabel('Age') \n",
        "plt.ylabel('Estimated Salary') \n",
        "plt.legend()\n",
        "plt.show()"
      ]
    },
    {
      "cell_type": "code",
      "execution_count": 150,
      "metadata": {
        "colab": {
          "base_uri": "https://localhost:8080/",
          "height": 351
        },
        "id": "7C75v5EWoJp4",
        "outputId": "7b564732-7230-4b27-e249-9aabbca154ce"
      },
      "outputs": [
        {
          "name": "stderr",
          "output_type": "stream",
          "text": [
            "*c* argument looks like a single numeric RGB or RGBA sequence, which should be avoided as value-mapping will have precedence in case its length matches with *x* & *y*.  Please use the *color* keyword-argument or provide a 2D array with a single row if you intend to specify the same RGB or RGBA value for all points.\n",
            "*c* argument looks like a single numeric RGB or RGBA sequence, which should be avoided as value-mapping will have precedence in case its length matches with *x* & *y*.  Please use the *color* keyword-argument or provide a 2D array with a single row if you intend to specify the same RGB or RGBA value for all points.\n",
            "*c* argument looks like a single numeric RGB or RGBA sequence, which should be avoided as value-mapping will have precedence in case its length matches with *x* & *y*.  Please use the *color* keyword-argument or provide a 2D array with a single row if you intend to specify the same RGB or RGBA value for all points.\n"
          ]
        },
        {
          "data": {
            "image/png": "[encoded data removed]",
            "text/plain": [
              "<Figure size 432x288 with 1 Axes>"
            ]
          },
          "metadata": {
            "needs_background": "light"
          },
          "output_type": "display_data"
        }
      ],
      "source": [
        "from matplotlib.colors import ListedColormap\n",
        "x_set, y_set = x_test, y_test\n",
        "x1, x2 = np.meshgrid(np.arange(start = x_set[:, 0].min() - 1, stop = x_set[:, 0].max() +  1, step = 0.01),\n",
        "                     np.arange(start = x_set[:, 1].min() - 1, stop = x_set[:, 1].max() +  1, step = 0.01))\n",
        "plt.contourf(x1, x2, classifier.predict(np.array([x1.ravel(), x2.ravel()]).T).reshape(x1.shape),\n",
        "    alpha = 0.75, cmap = ListedColormap(('red', 'green')))\n",
        "plt.xlim(x1.min(), x1.max())\n",
        "plt.ylim(x2.min(), x2.max())\n",
        "for i,  j in enumerate(np.unique(y_set)):\n",
        "    plt.scatter(x_set[y_set == j, 0], x_set[y_set == j, 1],\n",
        "                c = ListedColormap(('red', 'green'))(i), label= j)\n",
        "plt.title('Naive Bayes (Test set)')\n",
        "plt.xlabel('Age') \n",
        "plt.ylabel('Estimated Salary') \n",
        "plt.legend()\n",
        "plt.show()"
      ]
    }
  ],
  "metadata": {
    "colab": {
      "collapsed_sections": [],
      "name": "Naive_Bayes.ipynb",
      "provenance": []
    },
    "kernelspec": {
      "display_name": "Python 3",
      "name": "python3"
    },
    "language_info": {
      "name": "python",
      "version": "3.9.7"
    }
  },
  "nbformat": 4,
  "nbformat_minor": 0
}
