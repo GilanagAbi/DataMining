{
  "cells": [
    {
      "cell_type": "markdown",
      "metadata": {},
      "source": [
        "Gilang Abimanyu - A11.2019.11753"
      ]
    },
    {
      "cell_type": "code",
      "execution_count": 64,
      "metadata": {
        "id": "i7hlzeHEFKnl"
      },
      "outputs": [],
      "source": [
        "import numpy as np\n",
        "import matplotlib.pyplot as plt\n",
        "import pandas as pd"
      ]
    },
    {
      "cell_type": "code",
      "execution_count": 65,
      "metadata": {
        "id": "gcb80ErfFYGP"
      },
      "outputs": [],
      "source": [
        "dataset = pd.read_csv(\"desamjbk.csv\")\n",
        "x = dataset.iloc[:, [3,5]].values\n",
        "y = dataset.iloc[:, -1].values"
      ]
    },
    {
      "cell_type": "code",
      "execution_count": 66,
      "metadata": {
        "colab": {
          "base_uri": "https://localhost:8080/"
        },
        "id": "nRYsvcUwFkin",
        "outputId": "dae2125e-2196-4317-b2ae-9130fe3e5c07"
      },
      "outputs": [
        {
          "name": "stdout",
          "output_type": "stream",
          "text": [
            "[[3201  269]\n",
            " [3201   46]\n",
            " [3202  229]\n",
            " [3202   58]\n",
            " [3203  226]\n",
            " [3203   32]\n",
            " [3204  194]\n",
            " [3204   47]\n",
            " [3205  260]\n",
            " [3205   41]\n",
            " [3206  213]\n",
            " [3206   41]\n",
            " [3207  195]\n",
            " [3207   33]\n",
            " [3208  250]\n",
            " [3208   61]\n",
            " [3209  320]\n",
            " [3209   47]\n",
            " [3210  246]\n",
            " [3210   29]\n",
            " [3211  217]\n",
            " [3211   33]\n",
            " [3212  208]\n",
            " [3212   66]\n",
            " [3213  186]\n",
            " [3213   29]\n",
            " [3214  104]\n",
            " [3214   12]\n",
            " [3215  159]\n",
            " [3215   28]\n",
            " [3216  145]\n",
            " [3216   20]\n",
            " [3217   98]\n",
            " [3217   58]\n",
            " [3218   71]\n",
            " [3218   11]\n",
            " [3279   13]\n",
            " [3279    3]\n",
            " [3201  265]\n",
            " [3201   94]\n",
            " [3202  258]\n",
            " [3202   78]\n",
            " [3203  249]\n",
            " [3203   74]\n",
            " [3204  136]\n",
            " [3204  108]\n",
            " [3205  294]\n",
            " [3205   68]\n",
            " [3206  246]\n",
            " [3206   62]\n",
            " [3207  171]\n",
            " [3207   68]\n",
            " [3208  255]\n",
            " [3208   90]\n",
            " [3209  311]\n",
            " [3209   87]\n",
            " [3210  254]\n",
            " [3210   58]\n",
            " [3211  201]\n",
            " [3211   67]\n",
            " [3212  201]\n",
            " [3212  100]\n",
            " [3213  199]\n",
            " [3213   44]\n",
            " [3214  132]\n",
            " [3214   28]\n",
            " [3215  203]\n",
            " [3215   58]\n",
            " [3216  143]\n",
            " [3216   32]\n",
            " [3217   65]\n",
            " [3217   84]\n",
            " [3218   68]\n",
            " [3218   21]\n",
            " [3279    5]\n",
            " [3279   11]\n",
            " [3201  252]\n",
            " [3201  131]\n",
            " [3202  239]\n",
            " [3202  121]\n",
            " [3203  240]\n",
            " [3203   93]\n",
            " [3204   85]\n",
            " [3204  129]\n",
            " [3205  282]\n",
            " [3205  102]\n",
            " [3206  259]\n",
            " [3206   67]\n",
            " [3207  146]\n",
            " [3207   93]\n",
            " [3208  220]\n",
            " [3208  115]\n",
            " [3209  295]\n",
            " [3209  108]\n",
            " [3210  181]\n",
            " [3210  126]\n",
            " [3211  175]\n",
            " [3211   91]\n",
            " [3212  162]\n",
            " [3212  130]\n",
            " [3213  178]\n",
            " [3213   61]\n",
            " [3214  140]\n",
            " [3214   32]\n",
            " [3215  195]\n",
            " [3215   74]\n",
            " [3216  140]\n",
            " [3216   32]\n",
            " [3217   45]\n",
            " [3217   92]\n",
            " [3218   56]\n",
            " [3218   29]\n",
            " [3279    0]\n",
            " [3279    5]]\n"
          ]
        }
      ],
      "source": [
        "print(x)"
      ]
    },
    {
      "cell_type": "code",
      "execution_count": 67,
      "metadata": {
        "colab": {
          "base_uri": "https://localhost:8080/"
        },
        "id": "ZWS6Db-DFosv",
        "outputId": "c16f2a8c-ee07-44d6-85db-9165dbaec81a"
      },
      "outputs": [
        {
          "name": "stdout",
          "output_type": "stream",
          "text": [
            "[0 1 0 1 0 1 0 1 0 1 0 1 0 1 0 1 0 1 0 1 0 1 0 1 0 1 0 1 0 1 0 1 0 1 0 1 0\n",
            " 1 0 1 0 1 0 1 0 1 0 1 0 1 0 1 0 1 0 1 0 1 0 1 0 1 0 1 0 1 0 1 0 1 0 1 0 1\n",
            " 0 1 0 1 0 1 0 1 0 1 0 1 0 1 0 1 0 1 0 1 0 1 0 1 0 1 0 1 0 1 0 1 0 1 0 1 0\n",
            " 1 0 1]\n"
          ]
        }
      ],
      "source": [
        "print(y)"
      ]
    },
    {
      "cell_type": "code",
      "execution_count": 68,
      "metadata": {
        "id": "guswPl7aFp5n"
      },
      "outputs": [],
      "source": [
        "from sklearn.model_selection import train_test_split\n",
        "x_train, x_test, y_train, y_test = train_test_split(x, y, test_size=0.25, random_state=0)"
      ]
    },
    {
      "cell_type": "code",
      "execution_count": 69,
      "metadata": {
        "colab": {
          "base_uri": "https://localhost:8080/"
        },
        "id": "TWmLPVTjFs_f",
        "outputId": "98e94cdc-6402-40d5-a6d0-f3b94811ca05"
      },
      "outputs": [
        {
          "name": "stdout",
          "output_type": "stream",
          "text": [
            "[[3202   58]\n",
            " [3212  100]\n",
            " [3209  311]\n",
            " [3209  295]\n",
            " [3204  194]\n",
            " [3212  201]\n",
            " [3203   74]\n",
            " [3206  259]\n",
            " [3212  130]\n",
            " [3204  108]\n",
            " [3201  252]\n",
            " [3213  199]\n",
            " [3214   12]\n",
            " [3210  246]\n",
            " [3206   41]\n",
            " [3212  162]\n",
            " [3217   92]\n",
            " [3210  254]\n",
            " [3279   11]\n",
            " [3205  102]\n",
            " [3201   46]\n",
            " [3205  282]\n",
            " [3203  249]\n",
            " [3202   78]\n",
            " [3203  226]\n",
            " [3208   61]\n",
            " [3209   47]\n",
            " [3208  255]\n",
            " [3202  258]\n",
            " [3201  265]\n",
            " [3203   32]\n",
            " [3208   90]\n",
            " [3215  195]\n",
            " [3213   44]\n",
            " [3201  269]\n",
            " [3218   71]\n",
            " [3215  159]\n",
            " [3209   87]\n",
            " [3218   11]\n",
            " [3212   66]\n",
            " [3216   20]\n",
            " [3279    5]\n",
            " [3210   58]\n",
            " [3210  126]\n",
            " [3211   91]\n",
            " [3217   98]\n",
            " [3211  175]\n",
            " [3208  250]\n",
            " [3202  239]\n",
            " [3210   29]\n",
            " [3215   28]\n",
            " [3206   62]\n",
            " [3218   29]\n",
            " [3279    0]\n",
            " [3202  121]\n",
            " [3216   32]\n",
            " [3203  240]\n",
            " [3211  217]\n",
            " [3216   32]\n",
            " [3218   68]\n",
            " [3201  131]\n",
            " [3213   29]\n",
            " [3279    3]\n",
            " [3203   93]\n",
            " [3213  178]\n",
            " [3205  294]\n",
            " [3217   45]\n",
            " [3201   94]\n",
            " [3214   28]\n",
            " [3211  201]\n",
            " [3207  195]\n",
            " [3213   61]\n",
            " [3207  146]\n",
            " [3217   65]\n",
            " [3206   67]\n",
            " [3279   13]\n",
            " [3211   33]\n",
            " [3204  129]\n",
            " [3205   41]\n",
            " [3214   32]\n",
            " [3218   56]\n",
            " [3215   58]\n",
            " [3214  132]\n",
            " [3205   68]\n",
            " [3204  136]]\n"
          ]
        }
      ],
      "source": [
        "print(x_train)"
      ]
    },
    {
      "cell_type": "code",
      "execution_count": 70,
      "metadata": {
        "colab": {
          "base_uri": "https://localhost:8080/"
        },
        "id": "ftzbKhftFw3X",
        "outputId": "4a7ffc81-9741-4a7a-ee1b-6ad321033e63"
      },
      "outputs": [
        {
          "name": "stdout",
          "output_type": "stream",
          "text": [
            "[[3217   58]\n",
            " [3206  213]\n",
            " [3208  220]\n",
            " [3204   47]\n",
            " [3213  186]\n",
            " [3218   21]\n",
            " [3279    5]\n",
            " [3212  208]\n",
            " [3210  181]\n",
            " [3202  229]\n",
            " [3206  246]\n",
            " [3207   93]\n",
            " [3207   68]\n",
            " [3217   84]\n",
            " [3215   74]\n",
            " [3209  108]\n",
            " [3211   67]\n",
            " [3215  203]\n",
            " [3209  320]\n",
            " [3207   33]\n",
            " [3216  143]\n",
            " [3216  140]\n",
            " [3214  104]\n",
            " [3207  171]\n",
            " [3204   85]\n",
            " [3205  260]\n",
            " [3216  145]\n",
            " [3214  140]\n",
            " [3208  115]]\n"
          ]
        }
      ],
      "source": [
        "print(x_test)"
      ]
    },
    {
      "cell_type": "code",
      "execution_count": 71,
      "metadata": {
        "colab": {
          "base_uri": "https://localhost:8080/"
        },
        "id": "Y1CNgK1PF0LO",
        "outputId": "1aed46c3-02be-4504-c2a1-0fb1bcc9d4a4"
      },
      "outputs": [
        {
          "name": "stdout",
          "output_type": "stream",
          "text": [
            "[1 1 0 0 0 0 1 0 1 1 0 0 1 0 1 0 1 0 1 1 1 0 0 1 0 1 1 0 0 0 1 1 0 1 0 0 0\n",
            " 1 1 1 1 0 1 1 1 0 0 0 0 1 1 1 1 0 1 1 0 0 1 0 1 1 1 1 0 0 0 1 1 0 0 1 0 0\n",
            " 1 0 1 1 1 1 0 1 0 1 0]\n"
          ]
        }
      ],
      "source": [
        "print(y_train)"
      ]
    },
    {
      "cell_type": "code",
      "execution_count": 72,
      "metadata": {
        "colab": {
          "base_uri": "https://localhost:8080/"
        },
        "id": "dMLhny4QF2eu",
        "outputId": "d1755f37-69e3-4dfe-be91-1d252b440a22"
      },
      "outputs": [
        {
          "name": "stdout",
          "output_type": "stream",
          "text": [
            "[1 0 0 1 0 1 1 0 0 0 0 1 1 1 1 1 1 0 0 1 0 0 0 0 0 0 0 0 1]\n"
          ]
        }
      ],
      "source": [
        "print(y_test)"
      ]
    },
    {
      "cell_type": "code",
      "execution_count": 73,
      "metadata": {
        "id": "CvlkpNU9F8mm"
      },
      "outputs": [],
      "source": [
        "from sklearn.preprocessing import StandardScaler\n",
        "sc = StandardScaler()\n",
        "x_train = sc.fit_transform(x_train)\n",
        "x_test = sc.transform(x_test)"
      ]
    },
    {
      "cell_type": "code",
      "execution_count": 74,
      "metadata": {
        "colab": {
          "base_uri": "https://localhost:8080/"
        },
        "id": "foVXrDOhF9-H",
        "outputId": "3dad56ed-8585-489c-d072-ae97dfce2b10"
      },
      "outputs": [
        {
          "name": "stdout",
          "output_type": "stream",
          "text": [
            "[[-0.65424797 -0.69010739]\n",
            " [-0.07375656 -0.2172315 ]\n",
            " [-0.24790398  2.15840689]\n",
            " [-0.24790398  1.9782637 ]\n",
            " [-0.53814969  0.84110977]\n",
            " [-0.07375656  0.91992242]\n",
            " [-0.59619883 -0.50996419]\n",
            " [-0.4220514   1.57294151]\n",
            " [-0.07375656  0.12053699]\n",
            " [-0.53814969 -0.1271599 ]\n",
            " [-0.71229711  1.49412886]\n",
            " [-0.01570741  0.89740452]\n",
            " [ 0.04234173 -1.20801908]\n",
            " [-0.18985484  1.42657516]\n",
            " [-0.4220514  -0.88150953]\n",
            " [-0.07375656  0.48082338]\n",
            " [ 0.21648915 -0.3073031 ]\n",
            " [-0.18985484  1.51664676]\n",
            " [ 3.81553591 -1.21927803]\n",
            " [-0.48010054 -0.1947136 ]\n",
            " [-0.71229711 -0.82521479]\n",
            " [-0.48010054  1.83189735]\n",
            " [-0.59619883  1.46035201]\n",
            " [-0.65424797 -0.46492839]\n",
            " [-0.59619883  1.20139616]\n",
            " [-0.30595312 -0.65633054]\n",
            " [-0.24790398 -0.81395584]\n",
            " [-0.30595312  1.52790571]\n",
            " [-0.65424797  1.56168256]\n",
            " [-0.71229711  1.6404952 ]\n",
            " [-0.59619883 -0.98284008]\n",
            " [-0.30595312 -0.329821  ]\n",
            " [ 0.10039087  0.85236872]\n",
            " [-0.01570741 -0.84773269]\n",
            " [-0.71229711  1.685531  ]\n",
            " [ 0.27453829 -0.54374104]\n",
            " [ 0.10039087  0.44704653]\n",
            " [-0.24790398 -0.36359785]\n",
            " [ 0.27453829 -1.21927803]\n",
            " [-0.07375656 -0.60003579]\n",
            " [ 0.15844001 -1.11794748]\n",
            " [ 3.81553591 -1.28683172]\n",
            " [-0.18985484 -0.69010739]\n",
            " [-0.18985484  0.07550119]\n",
            " [-0.1318057  -0.31856205]\n",
            " [ 0.21648915 -0.2397494 ]\n",
            " [-0.1318057   0.62718973]\n",
            " [-0.30595312  1.47161096]\n",
            " [-0.65424797  1.34776251]\n",
            " [-0.18985484 -1.01661693]\n",
            " [ 0.10039087 -1.02787588]\n",
            " [-0.4220514  -0.64507159]\n",
            " [ 0.27453829 -1.01661693]\n",
            " [ 3.81553591 -1.34312647]\n",
            " [-0.65424797  0.01920644]\n",
            " [ 0.15844001 -0.98284008]\n",
            " [-0.59619883  1.35902146]\n",
            " [-0.1318057   1.10006562]\n",
            " [ 0.15844001 -0.98284008]\n",
            " [ 0.27453829 -0.57751789]\n",
            " [-0.71229711  0.13179594]\n",
            " [-0.01570741 -1.01661693]\n",
            " [ 3.81553591 -1.30934962]\n",
            " [-0.59619883 -0.29604415]\n",
            " [-0.01570741  0.66096658]\n",
            " [-0.48010054  1.96700475]\n",
            " [ 0.21648915 -0.83647374]\n",
            " [-0.71229711 -0.2847852 ]\n",
            " [ 0.04234173 -1.02787588]\n",
            " [-0.1318057   0.91992242]\n",
            " [-0.36400226  0.85236872]\n",
            " [-0.01570741 -0.65633054]\n",
            " [-0.36400226  0.30068019]\n",
            " [ 0.21648915 -0.61129474]\n",
            " [-0.4220514  -0.58877684]\n",
            " [ 3.81553591 -1.19676013]\n",
            " [-0.1318057  -0.97158113]\n",
            " [-0.53814969  0.10927804]\n",
            " [-0.48010054 -0.88150953]\n",
            " [ 0.04234173 -0.98284008]\n",
            " [ 0.27453829 -0.71262529]\n",
            " [ 0.10039087 -0.69010739]\n",
            " [ 0.04234173  0.14305489]\n",
            " [-0.48010054 -0.57751789]\n",
            " [-0.53814969  0.18809069]]\n"
          ]
        }
      ],
      "source": [
        "print(x_train)"
      ]
    },
    {
      "cell_type": "code",
      "execution_count": 75,
      "metadata": {
        "colab": {
          "base_uri": "https://localhost:8080/"
        },
        "id": "spb3f78lGAyH",
        "outputId": "fe036cd6-22b5-40d3-9df3-2bc8c8f3dcb4"
      },
      "outputs": [
        {
          "name": "stdout",
          "output_type": "stream",
          "text": [
            "[[ 0.21648915 -0.69010739]\n",
            " [-0.4220514   1.05502982]\n",
            " [-0.30595312  1.13384247]\n",
            " [-0.53814969 -0.81395584]\n",
            " [-0.01570741  0.75103818]\n",
            " [ 0.27453829 -1.10668853]\n",
            " [ 3.81553591 -1.28683172]\n",
            " [-0.07375656  0.99873507]\n",
            " [-0.18985484  0.69474343]\n",
            " [-0.65424797  1.23517301]\n",
            " [-0.4220514   1.42657516]\n",
            " [-0.36400226 -0.29604415]\n",
            " [-0.36400226 -0.57751789]\n",
            " [ 0.21648915 -0.3973747 ]\n",
            " [ 0.10039087 -0.50996419]\n",
            " [-0.24790398 -0.1271599 ]\n",
            " [-0.1318057  -0.58877684]\n",
            " [ 0.10039087  0.94244032]\n",
            " [-0.24790398  2.25973744]\n",
            " [-0.36400226 -0.97158113]\n",
            " [ 0.15844001  0.26690334]\n",
            " [ 0.15844001  0.23312649]\n",
            " [ 0.04234173 -0.1721957 ]\n",
            " [-0.36400226  0.58215393]\n",
            " [-0.53814969 -0.38611575]\n",
            " [-0.48010054  1.58420046]\n",
            " [ 0.15844001  0.28942124]\n",
            " [ 0.04234173  0.23312649]\n",
            " [-0.30595312 -0.04834725]]\n"
          ]
        }
      ],
      "source": [
        "print(x_test)"
      ]
    },
    {
      "cell_type": "code",
      "execution_count": 76,
      "metadata": {
        "colab": {
          "base_uri": "https://localhost:8080/"
        },
        "id": "-n-i8v_NT7Kg",
        "outputId": "dedd22a8-8f53-44d6-f818-88cf1454bf20"
      },
      "outputs": [
        {
          "data": {
            "text/plain": [
              "GaussianNB()"
            ]
          },
          "execution_count": 76,
          "metadata": {},
          "output_type": "execute_result"
        }
      ],
      "source": [
        "from sklearn.naive_bayes import GaussianNB\n",
        "classifier = GaussianNB()\n",
        "classifier.fit(x_train, y_train)"
      ]
    },
    {
      "cell_type": "code",
      "execution_count": 77,
      "metadata": {
        "id": "PxOXFzDaURbI"
      },
      "outputs": [],
      "source": [
        "y_pred = classifier.predict(x_test)"
      ]
    },
    {
      "cell_type": "code",
      "execution_count": 78,
      "metadata": {
        "colab": {
          "base_uri": "https://localhost:8080/"
        },
        "id": "_Qf2XLKFVPnh",
        "outputId": "2761e9a3-f024-4fc9-b92e-cee90e8d8f7a"
      },
      "outputs": [
        {
          "name": "stdout",
          "output_type": "stream",
          "text": [
            "[[15  2]\n",
            " [ 1 11]]\n"
          ]
        }
      ],
      "source": [
        "from sklearn.metrics import confusion_matrix\n",
        "cm = confusion_matrix(y_test, y_pred)\n",
        "print(cm)"
      ]
    },
    {
      "cell_type": "code",
      "execution_count": 79,
      "metadata": {
        "colab": {
          "base_uri": "https://localhost:8080/",
          "height": 351
        },
        "id": "Y11yjCt3WNyp",
        "outputId": "799ad974-1637-4c36-94f9-a90012c24b0f"
      },
      "outputs": [
        {
          "name": "stderr",
          "output_type": "stream",
          "text": [
            "*c* argument looks like a single numeric RGB or RGBA sequence, which should be avoided as value-mapping will have precedence in case its length matches with *x* & *y*.  Please use the *color* keyword-argument or provide a 2D array with a single row if you intend to specify the same RGB or RGBA value for all points.\n",
            "*c* argument looks like a single numeric RGB or RGBA sequence, which should be avoided as value-mapping will have precedence in case its length matches with *x* & *y*.  Please use the *color* keyword-argument or provide a 2D array with a single row if you intend to specify the same RGB or RGBA value for all points.\n"
          ]
        },
        {
          "data": {
            "image/png": "[encoded data removed]",
            "text/plain": [
              "<Figure size 432x288 with 1 Axes>"
            ]
          },
          "metadata": {
            "needs_background": "light"
          },
          "output_type": "display_data"
        }
      ],
      "source": [
        "from matplotlib.colors import ListedColormap\n",
        "x_set, y_set = x_train, y_train\n",
        "x1, x2 = np.meshgrid(np.arange(start = x_set[:, 0].min() - 1, stop = x_set[:, 0].max() +  1, step = 0.01),\n",
        "                     np.arange(start = x_set[:, 1].min() - 1, stop = x_set[:, 1].max() +  1, step = 0.01))\n",
        "plt.contourf(x1, x2, classifier.predict(np.array([x1.ravel(), x2.ravel()]).T).reshape(x1.shape),\n",
        "    alpha = 0.75, cmap = ListedColormap(('red', 'green')))\n",
        "plt.xlim(x1.min(), x1.max())\n",
        "plt.ylim(x2.min(), x2.max())\n",
        "for i,  j in enumerate(np.unique(y_set)):\n",
        "    plt.scatter(x_set[y_set == j, 0], x_set[y_set == j, 1],\n",
        "                c = ListedColormap(('red', 'green'))(i), label= j)\n",
        "plt.title('Naive Bayes (Training set)')\n",
        "plt.xlabel('Age') \n",
        "plt.ylabel('Estimated Salary') \n",
        "plt.legend()\n",
        "plt.show()"
      ]
    },
    {
      "cell_type": "code",
      "execution_count": 80,
      "metadata": {
        "colab": {
          "base_uri": "https://localhost:8080/",
          "height": 351
        },
        "id": "7C75v5EWoJp4",
        "outputId": "7b564732-7230-4b27-e249-9aabbca154ce"
      },
      "outputs": [
        {
          "name": "stderr",
          "output_type": "stream",
          "text": [
            "*c* argument looks like a single numeric RGB or RGBA sequence, which should be avoided as value-mapping will have precedence in case its length matches with *x* & *y*.  Please use the *color* keyword-argument or provide a 2D array with a single row if you intend to specify the same RGB or RGBA value for all points.\n",
            "*c* argument looks like a single numeric RGB or RGBA sequence, which should be avoided as value-mapping will have precedence in case its length matches with *x* & *y*.  Please use the *color* keyword-argument or provide a 2D array with a single row if you intend to specify the same RGB or RGBA value for all points.\n"
          ]
        },
        {
          "data": {
            "image/png": "[encoded data removed]",
            "text/plain": [
              "<Figure size 432x288 with 1 Axes>"
            ]
          },
          "metadata": {
            "needs_background": "light"
          },
          "output_type": "display_data"
        }
      ],
      "source": [
        "from matplotlib.colors import ListedColormap\n",
        "x_set, y_set = x_test, y_test\n",
        "x1, x2 = np.meshgrid(np.arange(start = x_set[:, 0].min() - 1, stop = x_set[:, 0].max() +  1, step = 0.01),\n",
        "                     np.arange(start = x_set[:, 1].min() - 1, stop = x_set[:, 1].max() +  1, step = 0.01))\n",
        "plt.contourf(x1, x2, classifier.predict(np.array([x1.ravel(), x2.ravel()]).T).reshape(x1.shape),\n",
        "    alpha = 0.75, cmap = ListedColormap(('red', 'green')))\n",
        "plt.xlim(x1.min(), x1.max())\n",
        "plt.ylim(x2.min(), x2.max())\n",
        "for i,  j in enumerate(np.unique(y_set)):\n",
        "    plt.scatter(x_set[y_set == j, 0], x_set[y_set == j, 1],\n",
        "                c = ListedColormap(('red', 'green'))(i), label= j)\n",
        "plt.title('Naive Bayes (Test set)')\n",
        "plt.xlabel('Age') \n",
        "plt.ylabel('Estimated Salary') \n",
        "plt.legend()\n",
        "plt.show()"
      ]
    }
  ],
  "metadata": {
    "colab": {
      "collapsed_sections": [],
      "name": "Naive_Bayes.ipynb",
      "provenance": []
    },
    "kernelspec": {
      "display_name": "Python 3.9.7",
      "language": "python",
      "name": "python3"
    },
    "language_info": {
      "codemirror_mode": {
        "name": "ipython",
        "version": 3
      },
      "file_extension": ".py",
      "mimetype": "text/x-python",
      "name": "python",
      "nbconvert_exporter": "python",
      "pygments_lexer": "ipython3",
      "version": "3.9.7"
    },
    "vscode": {
      "interpreter": {
        "hash": "bc30f45a0ee3bb283605bb62d26dc81a10ff7c6c6d220b9edda588a614f8ccf9"
      }
    }
  },
  "nbformat": 4,
  "nbformat_minor": 0
}
